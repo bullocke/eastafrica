{
 "cells": [
  {
   "cell_type": "markdown",
   "metadata": {},
   "source": [
    "# Example script ot estimate area at the national scale"
   ]
  },
  {
   "cell_type": "code",
   "execution_count": 43,
   "metadata": {},
   "outputs": [],
   "source": [
    "import pandas as pd\n",
    "import numpy as np\n",
    "import matplotlib.pyplot as plt"
   ]
  },
  {
   "cell_type": "code",
   "execution_count": 44,
   "metadata": {},
   "outputs": [],
   "source": [
    "# Read in the sample data as a Pandas DataFrame.\n",
    "df = pd.read_csv('../yearly_point_data.csv')"
   ]
  },
  {
   "cell_type": "code",
   "execution_count": 45,
   "metadata": {},
   "outputs": [],
   "source": [
    "# Direct estimation of area from simple random sample using an expansion estimator. \n",
    "def expansion_estimator_mean(class_name, class_list): \n",
    "    \n",
    "    # Calculate the number of reference samples for this class. \n",
    "    number_of_ref_units = len(class_list[class_list==class_name])\n",
    "    \n",
    "    # Calculate the total reference samples. \n",
    "    total_ref_units = len(class_list)\n",
    "    \n",
    "    # Calculate the proportion of total samples in this reference class. \n",
    "    proportion_of_ref_units = number_of_ref_units / total_ref_units\n",
    "    \n",
    "    return {'reference_samples_class': number_of_ref_units,\n",
    "            'total_reference_units': total_ref_units,\n",
    "            'proportion': proportion_of_ref_units}\n"
   ]
  },
  {
   "cell_type": "code",
   "execution_count": 46,
   "metadata": {},
   "outputs": [],
   "source": [
    "# Estimate of variance for direct estimation of area\n",
    "def expansion_estimator_variance(estimate):\n",
    "\n",
    "    # Get # of samples in this class, the proportion of samples in this class, and the total # of samples.\n",
    "    yi = estimate['reference_samples_class']\n",
    "    uhat = estimate['proportion']\n",
    "    total_ref = estimate['total_reference_units']\n",
    "    \n",
    "    # Calculate the numerator of the variance estimate. \n",
    "    numerator_this_class = (1-uhat)**2 * yi\n",
    "    numerator_other_classes = (0-uhat)**2 * (total_ref - yi)\n",
    "    numerator = numerator_this_class + numerator_other_classes\n",
    "    \n",
    "    # Calculate the denominator of the variance estimate. \n",
    "    denominator = total_ref * (total_ref - 1)\n",
    "    \n",
    "    # Calculate the variance. \n",
    "    variance = numerator / denominator\n",
    "    \n",
    "    return {'proportion': uhat,\n",
    "            'variance': variance,\n",
    "            'standard_error': np.sqrt(variance)}\n",
    "    "
   ]
  },
  {
   "cell_type": "code",
   "execution_count": 50,
   "metadata": {},
   "outputs": [
    {
     "name": "stdout",
     "output_type": "stream",
     "text": [
      "{'proportion': 0.314, 'variance': 0.00010775587793896948, 'standard_error': 0.010380552872509705}\n"
     ]
    }
   ],
   "source": [
    "# Example 1: Estimate area and variance for Open Forests in Zambia in 2000. \n",
    "df_subset = df.query('country == \"zambia\" & year == \"2000\"')\n",
    "example1_mean = expansion_estimator_mean('Open Forest', df_subset.landcover)\n",
    "example1_estimates = expansion_estimator_variance(example1_mean)\n",
    "\n",
    "print(example1_estimates)"
   ]
  }
 ],
 "metadata": {
  "kernelspec": {
   "display_name": "Python 3",
   "language": "python",
   "name": "python3"
  },
  "language_info": {
   "codemirror_mode": {
    "name": "ipython",
    "version": 3
   },
   "file_extension": ".py",
   "mimetype": "text/x-python",
   "name": "python",
   "nbconvert_exporter": "python",
   "pygments_lexer": "ipython3",
   "version": "3.6.12"
  }
 },
 "nbformat": 4,
 "nbformat_minor": 4
}
